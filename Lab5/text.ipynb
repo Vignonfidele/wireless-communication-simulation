{
 "cells": [
  {
   "cell_type": "code",
   "execution_count": 7,
   "metadata": {},
   "outputs": [],
   "source": [
    "import numpy as np\n",
    "\n",
    " \n",
    "a1=[0.9, 0.75 , - 0.1 ] \n",
    "a2=[0.75 , - 0.25 ,  0.15  ]\n",
    "a3=[0.6, - 0.2] \n",
    "coe=10**(-6)\n",
    "t1=[0 , 0.15*coe , 0.35*coe  ] \n",
    "t2=[0 , 0.25*coe ,  0.4*coe ]\n",
    "t3=[0 , 0.6] \n"
   ]
  },
  {
   "cell_type": "code",
   "execution_count": 8,
   "metadata": {},
   "outputs": [
    {
     "name": "stdout",
     "output_type": "stream",
     "text": [
      "[0, 1.5e-07, 3.5e-07]\n"
     ]
    }
   ],
   "source": []
  }
 ],
 "metadata": {
  "kernelspec": {
   "display_name": "Python 3.10.0 64-bit",
   "language": "python",
   "name": "python3"
  },
  "language_info": {
   "codemirror_mode": {
    "name": "ipython",
    "version": 3
   },
   "file_extension": ".py",
   "mimetype": "text/x-python",
   "name": "python",
   "nbconvert_exporter": "python",
   "pygments_lexer": "ipython3",
   "version": "3.10.0"
  },
  "orig_nbformat": 4,
  "vscode": {
   "interpreter": {
    "hash": "f401cf9c08b0bf3ea5bc917c5a694ccccf5f2063684f3ad7c638a7b08b161736"
   }
  }
 },
 "nbformat": 4,
 "nbformat_minor": 2
}
